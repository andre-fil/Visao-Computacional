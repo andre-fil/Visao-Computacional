{
 "cells": [
  {
   "cell_type": "code",
   "execution_count": 3,
   "metadata": {},
   "outputs": [
    {
     "ename": "",
     "evalue": "",
     "output_type": "error",
     "traceback": [
      "\u001b[1;31mCanceled future for execute_request message before replies were done"
     ]
    },
    {
     "ename": "",
     "evalue": "",
     "output_type": "error",
     "traceback": [
      "\u001b[1;31mO Kernel falhou ao executar o código na célula atual ou em uma célula anterior. Examine o código nas células para identificar uma possível causa da falha. Clique <a href=\"https://aka.ms/vscodeJupyterKernelCrash\">aqui</a> para obter mais informações. Consulte o <a href='command:jupyter.viewOutput'>log</a> do Jupyter para obter mais detalhes."
     ]
    }
   ],
   "source": [
    "from turtle import bgcolor\n",
    "import cv2\n",
    "xml_haar_cascade = 'haarcascade_frontalface_alt2.xml'\n",
    "\n",
    "\n",
    "#carregar classificador\n",
    "faceClassifier = cv2.CascadeClassifier(xml_haar_cascade)\n",
    "\n",
    "#Pegar e definir tamanho da imagem da camera\n",
    "capture = cv2.VideoCapture(0)\n",
    "capture.set(cv2.CAP_PROP_FRAME_WIDTH, 320)\n",
    "capture.set(cv2.CAP_PROP_FRAME_HEIGHT, 240)\n",
    "\n",
    "#Lê imagens da câmera em loop e desenha retângulos\n",
    "while not cv2.waitKey(5) & 0XFF == ord(\"q\"):\n",
    "    ret, frame = capture.read()\n",
    "    gray = cv2.cvtColor(frame, cv2.COLOR_BGR2GRAY)\n",
    "    \n",
    "    \n",
    "    faces = faceClassifier.detectMultiScale(gray)\n",
    "    \n",
    "    \n",
    "    for x,y,w,h in faces:\n",
    "        cv2.rectangle(frame, (x,y), (x+w,y+h),(0,255,0),2)\n",
    "    \n",
    "    cv2.imshow('color', frame)\n",
    "    \n",
    "    \n",
    "    \n",
    "\n"
   ]
  },
  {
   "cell_type": "code",
   "execution_count": null,
   "metadata": {},
   "outputs": [],
   "source": [
    "    "
   ]
  },
  {
   "cell_type": "code",
   "execution_count": null,
   "metadata": {},
   "outputs": [],
   "source": []
  }
 ],
 "metadata": {
  "kernelspec": {
   "display_name": "Python 3.10.7 64-bit",
   "language": "python",
   "name": "python3"
  },
  "language_info": {
   "codemirror_mode": {
    "name": "ipython",
    "version": 3
   },
   "file_extension": ".py",
   "mimetype": "text/x-python",
   "name": "python",
   "nbconvert_exporter": "python",
   "pygments_lexer": "ipython3",
   "version": "3.10.7"
  },
  "orig_nbformat": 4,
  "vscode": {
   "interpreter": {
    "hash": "e395b3927dcb0419b99e42c5532195bb15a0a203ecdf07649cf3ef7ed0edd65c"
   }
  }
 },
 "nbformat": 4,
 "nbformat_minor": 2
}
